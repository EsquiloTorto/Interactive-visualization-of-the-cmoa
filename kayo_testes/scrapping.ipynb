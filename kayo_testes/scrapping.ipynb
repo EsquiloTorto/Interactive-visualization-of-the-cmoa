{
 "cells": [
  {
   "cell_type": "code",
   "execution_count": 1,
   "metadata": {},
   "outputs": [],
   "source": [
    "import pandas as pd"
   ]
  },
  {
   "cell_type": "code",
   "execution_count": 2,
   "metadata": {},
   "outputs": [],
   "source": [
    "cmoa = pd.read_csv('collection-master/cmoa_no_null.csv')"
   ]
  },
  {
   "cell_type": "code",
   "execution_count": 14,
   "metadata": {},
   "outputs": [
    {
     "data": {
      "text/plain": [
       "0                                  Mapplethorpe, Robert\n",
       "1                                              Baer, Jo\n",
       "2                                       unknown Chinese\n",
       "3                                       unknown Chinese\n",
       "4                                       unknown Chinese\n",
       "5     Pugin, Augustus Welby Northmore|Hardman, John ...\n",
       "6                                         Ivory, Alfred\n",
       "7                                         Ivory, Alfred\n",
       "8                 Dresser, Christopher|Watcombe Pottery\n",
       "9            Dresser, Christopher|Brownfield, W. & Sons\n",
       "10    Dresser, Christopher|Old Hall Earthenware Comp...\n",
       "11    Dresser, Christopher|Old Hall Earthenware Comp...\n",
       "12    Dresser, Christopher|Old Hall Earthenware Comp...\n",
       "13                    Dresser, Christopher|Ault Pottery\n",
       "14                                        Atget, Eugène\n",
       "15                                        Atget, Eugène\n",
       "16                       Aldridge, Charles|Green, Henry\n",
       "17                                      unknown English\n",
       "18                                      unknown English\n",
       "19                                           Katz, Alex\n",
       "20                                        Atget, Eugène\n",
       "21                       Latimer, Clive|Heal & Son Ltd.\n",
       "22                               Newman, Henry Roderick\n",
       "23                                         Lhote, André\n",
       "24                                   Kandinsky, Vassily\n",
       "25                                        Atget, Eugène\n",
       "26                                        Atget, Eugène\n",
       "27                                        Atget, Eugène\n",
       "28                                        Atget, Eugène\n",
       "29                                      unknown Chinese\n",
       "30                                      unknown Chinese\n",
       "31                                      unknown Chinese\n",
       "32                                      unknown Chinese\n",
       "33                                      unknown English\n",
       "34                                              unknown\n",
       "35                                              unknown\n",
       "36                                              unknown\n",
       "37                                      unknown Chinese\n",
       "38                                Lewis.Tsurumaki.Lewis\n",
       "39                                Lewis.Tsurumaki.Lewis\n",
       "40                                Lewis.Tsurumaki.Lewis\n",
       "41                                Lewis.Tsurumaki.Lewis\n",
       "42                                Lewis.Tsurumaki.Lewis\n",
       "43                                       Dumas, Marlene\n",
       "44                                       Dumas, Marlene\n",
       "45                                       Dumas, Marlene\n",
       "46                                       Dumas, Marlene\n",
       "47                                       Dumas, Marlene\n",
       "48                        unknown Guinean, Baga culture\n",
       "49                                  Cantagalli Workshop\n",
       "Name: cited_name, dtype: object"
      ]
     },
     "execution_count": 14,
     "metadata": {},
     "output_type": "execute_result"
    }
   ],
   "source": [
    "cmoa[\"cited_name\"].head(50)"
   ]
  },
  {
   "cell_type": "code",
   "execution_count": null,
   "metadata": {},
   "outputs": [],
   "source": [
    "# Show cited_name that have Aldridge, Charles in the name\n",
    "cmoa[cmoa['title'].str.contains('Mercer Residence, New York City', na=False)]"
   ]
  },
  {
   "cell_type": "code",
   "execution_count": null,
   "metadata": {},
   "outputs": [],
   "source": [
    "# Show rows with same title and cited_name\n",
    "cmoa[cmoa.duplicated(['title', 'cited_name', \"full_name\"], keep=False)]"
   ]
  },
  {
   "cell_type": "code",
   "execution_count": 18,
   "metadata": {},
   "outputs": [
    {
     "data": {
      "text/html": [
       "<div>\n",
       "<style scoped>\n",
       "    .dataframe tbody tr th:only-of-type {\n",
       "        vertical-align: middle;\n",
       "    }\n",
       "\n",
       "    .dataframe tbody tr th {\n",
       "        vertical-align: top;\n",
       "    }\n",
       "\n",
       "    .dataframe thead th {\n",
       "        text-align: right;\n",
       "    }\n",
       "</style>\n",
       "<table border=\"1\" class=\"dataframe\">\n",
       "  <thead>\n",
       "    <tr style=\"text-align: right;\">\n",
       "      <th></th>\n",
       "      <th>title</th>\n",
       "      <th>creation_date</th>\n",
       "      <th>creation_date_earliest</th>\n",
       "      <th>creation_date_latest</th>\n",
       "      <th>medium</th>\n",
       "      <th>accession_number</th>\n",
       "      <th>id</th>\n",
       "      <th>credit_line</th>\n",
       "      <th>date_acquired</th>\n",
       "      <th>department</th>\n",
       "      <th>...</th>\n",
       "      <th>party_type</th>\n",
       "      <th>full_name</th>\n",
       "      <th>cited_name</th>\n",
       "      <th>role</th>\n",
       "      <th>nationality</th>\n",
       "      <th>birth_date</th>\n",
       "      <th>death_date</th>\n",
       "      <th>birth_place</th>\n",
       "      <th>death_place</th>\n",
       "      <th>small_img_url</th>\n",
       "    </tr>\n",
       "  </thead>\n",
       "  <tbody>\n",
       "    <tr>\n",
       "      <th>6</th>\n",
       "      <td>Ewer</td>\n",
       "      <td>1864</td>\n",
       "      <td>1864-01-01</td>\n",
       "      <td>1864-01-01</td>\n",
       "      <td>silver and silver gilt</td>\n",
       "      <td>2002.20.2.1</td>\n",
       "      <td>cmoa:things/70738823-8497-42d8-8d98-5cf68cbf223e</td>\n",
       "      <td>DuPuy Fund</td>\n",
       "      <td>2002-06-06</td>\n",
       "      <td>Decorative Arts and Design</td>\n",
       "      <td>...</td>\n",
       "      <td>Person</td>\n",
       "      <td>Alfred Ivory</td>\n",
       "      <td>Ivory, Alfred</td>\n",
       "      <td>NaN</td>\n",
       "      <td>British</td>\n",
       "      <td>1856-01-01</td>\n",
       "      <td>1882-01-01</td>\n",
       "      <td>NaN</td>\n",
       "      <td>NaN</td>\n",
       "      <td>https://cmoa-collection-images.s3.amazonaws.co...</td>\n",
       "    </tr>\n",
       "    <tr>\n",
       "      <th>7</th>\n",
       "      <td>Ewer</td>\n",
       "      <td>1868</td>\n",
       "      <td>1868-01-01</td>\n",
       "      <td>1868-01-01</td>\n",
       "      <td>silver and silver gilt</td>\n",
       "      <td>2002.20.2.2</td>\n",
       "      <td>cmoa:things/09c8537c-47ab-4895-9ded-b446b3a29d03</td>\n",
       "      <td>DuPuy Fund</td>\n",
       "      <td>2002-06-06</td>\n",
       "      <td>Decorative Arts and Design</td>\n",
       "      <td>...</td>\n",
       "      <td>Person</td>\n",
       "      <td>Alfred Ivory</td>\n",
       "      <td>Ivory, Alfred</td>\n",
       "      <td>NaN</td>\n",
       "      <td>British</td>\n",
       "      <td>1856-01-01</td>\n",
       "      <td>1882-01-01</td>\n",
       "      <td>NaN</td>\n",
       "      <td>NaN</td>\n",
       "      <td>https://cmoa-collection-images.s3.amazonaws.co...</td>\n",
       "    </tr>\n",
       "  </tbody>\n",
       "</table>\n",
       "<p>2 rows × 30 columns</p>\n",
       "</div>"
      ],
      "text/plain": [
       "  title creation_date creation_date_earliest creation_date_latest  \\\n",
       "6  Ewer          1864             1864-01-01           1864-01-01   \n",
       "7  Ewer          1868             1868-01-01           1868-01-01   \n",
       "\n",
       "                   medium accession_number  \\\n",
       "6  silver and silver gilt      2002.20.2.1   \n",
       "7  silver and silver gilt      2002.20.2.2   \n",
       "\n",
       "                                                 id credit_line date_acquired  \\\n",
       "6  cmoa:things/70738823-8497-42d8-8d98-5cf68cbf223e  DuPuy Fund    2002-06-06   \n",
       "7  cmoa:things/09c8537c-47ab-4895-9ded-b446b3a29d03  DuPuy Fund    2002-06-06   \n",
       "\n",
       "                   department  ... party_type     full_name     cited_name  \\\n",
       "6  Decorative Arts and Design  ...     Person  Alfred Ivory  Ivory, Alfred   \n",
       "7  Decorative Arts and Design  ...     Person  Alfred Ivory  Ivory, Alfred   \n",
       "\n",
       "   role  nationality  birth_date  death_date birth_place death_place  \\\n",
       "6   NaN      British  1856-01-01  1882-01-01         NaN         NaN   \n",
       "7   NaN      British  1856-01-01  1882-01-01         NaN         NaN   \n",
       "\n",
       "                                       small_img_url  \n",
       "6  https://cmoa-collection-images.s3.amazonaws.co...  \n",
       "7  https://cmoa-collection-images.s3.amazonaws.co...  \n",
       "\n",
       "[2 rows x 30 columns]"
      ]
     },
     "execution_count": 18,
     "metadata": {},
     "output_type": "execute_result"
    }
   ],
   "source": [
    "cmoa.iloc[6:8]"
   ]
  },
  {
   "cell_type": "code",
   "execution_count": 28,
   "metadata": {},
   "outputs": [],
   "source": [
    "# put all classification names in lower case\n",
    "cmoa['classification'] = cmoa['classification'].str.lower()"
   ]
  },
  {
   "cell_type": "code",
   "execution_count": 29,
   "metadata": {},
   "outputs": [
    {
     "data": {
      "text/plain": [
       "array(['photographs', 'paintings', 'glass', 'metals', 'ceramics',\n",
       "       'drawings and watercolors', 'prints', 'containers', 'sculpture',\n",
       "       'wood', 'furniture', 'lighting devices', 'architectural models',\n",
       "       'installations', 'textile art', 'mixed media', 'printing plates',\n",
       "       'video', 'collages', 'films', 'tools and equipment', 'books',\n",
       "       'architectural elements', 'computer art', 'measuring devices',\n",
       "       'mirrors', 'video art', 'architectural drawings',\n",
       "       'recreational artifacts', nan, 'sound devices', 'printing blocks',\n",
       "       'costume', 'textiles', 'religious visual works', 'crèches',\n",
       "       'documents and information artifacts', 'weapons and ammunition',\n",
       "       'casts', 'biological components'], dtype=object)"
      ]
     },
     "execution_count": 29,
     "metadata": {},
     "output_type": "execute_result"
    }
   ],
   "source": [
    "cmoa['classification'].unique()"
   ]
  },
  {
   "cell_type": "code",
   "execution_count": null,
   "metadata": {},
   "outputs": [],
   "source": [
    "# save the new csv\n",
    "cmoa.to_csv('collection-master/cmoa_no_null.csv', index=False)"
   ]
  }
 ],
 "metadata": {
  "kernelspec": {
   "display_name": "Python 3",
   "language": "python",
   "name": "python3"
  },
  "language_info": {
   "codemirror_mode": {
    "name": "ipython",
    "version": 3
   },
   "file_extension": ".py",
   "mimetype": "text/x-python",
   "name": "python",
   "nbconvert_exporter": "python",
   "pygments_lexer": "ipython3",
   "version": "3.8.5"
  },
  "orig_nbformat": 4
 },
 "nbformat": 4,
 "nbformat_minor": 2
}
