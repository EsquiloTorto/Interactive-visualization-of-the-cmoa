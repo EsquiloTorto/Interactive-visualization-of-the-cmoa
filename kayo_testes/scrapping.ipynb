{
 "cells": [
  {
   "cell_type": "code",
   "execution_count": 1,
   "metadata": {},
   "outputs": [],
   "source": [
    "import pandas as pd"
   ]
  },
  {
   "cell_type": "code",
   "execution_count": 2,
   "metadata": {},
   "outputs": [],
   "source": [
    "cmoa = pd.read_csv('collection-master/cmoa.csv')"
   ]
  },
  {
   "cell_type": "code",
   "execution_count": 3,
   "metadata": {},
   "outputs": [
    {
     "data": {
      "text/plain": [
       "Index(['title', 'creation_date', 'creation_date_earliest',\n",
       "       'creation_date_latest', 'medium', 'accession_number', 'id',\n",
       "       'credit_line', 'date_acquired', 'department', 'physical_location',\n",
       "       'item_width', 'item_height', 'item_depth', 'item_diameter', 'web_url',\n",
       "       'provenance_text', 'classification', 'image_url', 'artist_id',\n",
       "       'party_type', 'full_name', 'cited_name', 'role', 'nationality',\n",
       "       'birth_date', 'death_date', 'birth_place', 'death_place'],\n",
       "      dtype='object')"
      ]
     },
     "execution_count": 3,
     "metadata": {},
     "output_type": "execute_result"
    }
   ],
   "source": [
    "cmoa.columns"
   ]
  },
  {
   "cell_type": "code",
   "execution_count": 4,
   "metadata": {},
   "outputs": [
    {
     "data": {
      "text/plain": [
       "title                                                         Keith Haring\n",
       "creation_date                                                         1984\n",
       "creation_date_earliest                                          1984-01-01\n",
       "creation_date_latest                                            1984-01-01\n",
       "medium                                                gelatin silver print\n",
       "accession_number                                                   2002.17\n",
       "id                        cmoa:things/692a68c5-af1e-4124-80f1-cbf38be51abe\n",
       "credit_line                                               Milton Fine Fund\n",
       "date_acquired                                                   2002-06-06\n",
       "department                                                Contemporary Art\n",
       "physical_location                                              Not on View\n",
       "item_width                                                           23.25\n",
       "item_height                                                          29.25\n",
       "item_depth                                                            1.25\n",
       "item_diameter                                                          0.0\n",
       "Name: 0, dtype: object"
      ]
     },
     "execution_count": 4,
     "metadata": {},
     "output_type": "execute_result"
    }
   ],
   "source": [
    "cmoa.iloc[0, :15]"
   ]
  },
  {
   "cell_type": "code",
   "execution_count": 5,
   "metadata": {},
   "outputs": [
    {
     "data": {
      "text/plain": [
       "web_url            https://collection.carnegieart.org/objects/692...\n",
       "provenance_text             The Robert Mapplethorpe Foundation, 2002\n",
       "classification                                           photographs\n",
       "image_url          https://cmoa-collection-images.s3.amazonaws.co...\n",
       "artist_id          cmoa:parties/2cb30976-c292-4060-9dea-ba0e9504dda7\n",
       "party_type                                                    Person\n",
       "full_name                                        Robert Mapplethorpe\n",
       "cited_name                                      Mapplethorpe, Robert\n",
       "role                                                             NaN\n",
       "nationality                                                 American\n",
       "birth_date                                                1947-01-01\n",
       "death_date                                                1989-01-01\n",
       "birth_place            New York City (New York state, United States)\n",
       "death_place            New York City (New York state, United States)\n",
       "Name: 0, dtype: object"
      ]
     },
     "execution_count": 5,
     "metadata": {},
     "output_type": "execute_result"
    }
   ],
   "source": [
    "cmoa.iloc[0, 15:]"
   ]
  },
  {
   "cell_type": "code",
   "execution_count": 6,
   "metadata": {},
   "outputs": [
    {
     "data": {
      "text/plain": [
       "False    28251\n",
       "Name: cited_name, dtype: int64"
      ]
     },
     "execution_count": 6,
     "metadata": {},
     "output_type": "execute_result"
    }
   ],
   "source": [
    "# Check if da Vinci is in the cited_name column\n",
    "cmoa['cited_name'].str.contains('da Vinci').value_counts()"
   ]
  },
  {
   "cell_type": "code",
   "execution_count": 7,
   "metadata": {},
   "outputs": [
    {
     "data": {
      "text/plain": [
       "28269"
      ]
     },
     "execution_count": 7,
     "metadata": {},
     "output_type": "execute_result"
    }
   ],
   "source": [
    "len(cmoa)"
   ]
  },
  {
   "cell_type": "code",
   "execution_count": 8,
   "metadata": {},
   "outputs": [],
   "source": [
    "# Drop rows with null in the image_url column\n",
    "cmoa_no_null = cmoa.dropna(subset=['image_url'])"
   ]
  },
  {
   "cell_type": "code",
   "execution_count": 9,
   "metadata": {},
   "outputs": [
    {
     "data": {
      "text/plain": [
       "14427"
      ]
     },
     "execution_count": 9,
     "metadata": {},
     "output_type": "execute_result"
    }
   ],
   "source": [
    "len(cmoa_no_null)"
   ]
  },
  {
   "cell_type": "code",
   "execution_count": 11,
   "metadata": {},
   "outputs": [
    {
     "name": "stderr",
     "output_type": "stream",
     "text": [
      "C:\\Users\\Kayo\\AppData\\Local\\Temp\\ipykernel_18820\\3358501701.py:10: SettingWithCopyWarning: \n",
      "A value is trying to be set on a copy of a slice from a DataFrame.\n",
      "Try using .loc[row_indexer,col_indexer] = value instead\n",
      "\n",
      "See the caveats in the documentation: https://pandas.pydata.org/pandas-docs/stable/user_guide/indexing.html#returning-a-view-versus-a-copy\n",
      "  cmoa_no_null[\"small_img_url\"] = cmoa_no_null[\"image_url\"].apply(get_small_images_url).values\n"
     ]
    }
   ],
   "source": [
    "# Changing the image_url to the small image url\n",
    "# Thanks Giovani for the idea\n",
    "def get_small_images_url(s):\n",
    "\ts = s.split(\"/\")\n",
    "\ts[-1] = s[-1].replace(\".jpg\", \"-420.jpg\")\n",
    "\ts[-2] = s[-2] + \"/sizes\"\n",
    "\ts = \"/\".join(s)\n",
    "\treturn s\n",
    "\t\n",
    "cmoa_no_null[\"small_img_url\"] = cmoa_no_null[\"image_url\"].apply(get_small_images_url).values"
   ]
  },
  {
   "cell_type": "code",
   "execution_count": 13,
   "metadata": {},
   "outputs": [],
   "source": [
    "# save the dataframe to a csv file\n",
    "cmoa_no_null.to_csv('collection-master/cmoa_no_null.csv', index=False)"
   ]
  }
 ],
 "metadata": {
  "kernelspec": {
   "display_name": "Python 3",
   "language": "python",
   "name": "python3"
  },
  "language_info": {
   "codemirror_mode": {
    "name": "ipython",
    "version": 3
   },
   "file_extension": ".py",
   "mimetype": "text/x-python",
   "name": "python",
   "nbconvert_exporter": "python",
   "pygments_lexer": "ipython3",
   "version": "3.8.5"
  },
  "orig_nbformat": 4
 },
 "nbformat": 4,
 "nbformat_minor": 2
}
