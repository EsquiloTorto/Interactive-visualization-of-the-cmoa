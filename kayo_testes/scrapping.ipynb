{
 "cells": [
  {
   "cell_type": "code",
   "execution_count": 1,
   "metadata": {},
   "outputs": [],
   "source": [
    "import pandas as pd"
   ]
  },
  {
   "cell_type": "code",
   "execution_count": 2,
   "metadata": {},
   "outputs": [],
   "source": [
    "cmoa = pd.read_csv('collection-master/cmoa_no_null.csv')"
   ]
  },
  {
   "cell_type": "code",
   "execution_count": 4,
   "metadata": {},
   "outputs": [
    {
     "data": {
      "text/plain": [
       "array(['photographs', 'paintings', 'glass', 'metals', 'ceramics',\n",
       "       'drawings and watercolors', 'prints', 'containers', 'sculpture',\n",
       "       'wood', 'furniture', 'lighting devices', 'architectural models',\n",
       "       'installations', 'textile art', 'mixed media', 'printing plates',\n",
       "       'video', 'collages', 'films', 'tools and equipment', 'books',\n",
       "       'architectural elements', 'computer art', 'measuring devices',\n",
       "       'mirrors', 'video art', 'architectural drawings',\n",
       "       'recreational artifacts', nan, 'sound devices', 'printing blocks',\n",
       "       'costume', 'textiles', 'religious visual works', 'crèches',\n",
       "       'documents and information artifacts', 'weapons and ammunition',\n",
       "       'casts', 'biological components'], dtype=object)"
      ]
     },
     "execution_count": 4,
     "metadata": {},
     "output_type": "execute_result"
    }
   ],
   "source": [
    "cmoa[\"classification\"].unique()"
   ]
  }
 ],
 "metadata": {
  "kernelspec": {
   "display_name": "Python 3",
   "language": "python",
   "name": "python3"
  },
  "language_info": {
   "codemirror_mode": {
    "name": "ipython",
    "version": 3
   },
   "file_extension": ".py",
   "mimetype": "text/x-python",
   "name": "python",
   "nbconvert_exporter": "python",
   "pygments_lexer": "ipython3",
   "version": "3.8.10"
  },
  "orig_nbformat": 4
 },
 "nbformat": 4,
 "nbformat_minor": 2
}
