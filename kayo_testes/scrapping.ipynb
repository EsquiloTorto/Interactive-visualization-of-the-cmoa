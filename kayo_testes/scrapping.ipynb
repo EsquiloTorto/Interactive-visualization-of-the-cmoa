{
 "cells": [
  {
   "cell_type": "code",
   "execution_count": 1,
   "metadata": {},
   "outputs": [],
   "source": [
    "import pandas as pd"
   ]
  },
  {
   "cell_type": "code",
   "execution_count": 4,
   "metadata": {},
   "outputs": [],
   "source": [
    "cmoa = pd.read_csv('../teste_treemap/data.csv')"
   ]
  },
  {
   "cell_type": "code",
   "execution_count": 5,
   "metadata": {},
   "outputs": [
    {
     "data": {
      "text/plain": [
       "array(['American', 'Scottish', 'Japanese', 'English', 'French', 'Chinese',\n",
       "       'Italian|German', 'Italian', 'Filipino', 'Dutch', 'Spanish|Swiss',\n",
       "       'German|German', 'American|German', 'German', 'Japanese|Japanese',\n",
       "       'African', 'American|American', 'Congolese', 'Flemish', 'British',\n",
       "       'Asian', 'Austrian|French | Swiss', 'Spanish', 'Russian',\n",
       "       'Chinese|Chinese', 'British|British', 'Austrian',\n",
       "       'Dutch|Dutch|Dutch', 'French|French',\n",
       "       'Japanese|Japanese|Japanese|Japanese',\n",
       "       'French|French|New Zealander', 'Danish', 'Venetian',\n",
       "       'South African', 'Belgian', 'Liberian', 'Kissi', 'Persian',\n",
       "       'Indian', 'Finnish|American', 'English|English|English', 'Bamana',\n",
       "       'undetermined', 'French|German', 'Nigerian', 'Ancient Roman',\n",
       "       'Australian', 'French|undetermined', 'Near Eastern',\n",
       "       'Australian|Australian', 'Brazilian', 'Austrian|Austrian',\n",
       "       'Swedish|Swedish', 'Czech', 'French|Mexican|Swiss',\n",
       "       'undetermined|American', 'Israeli', 'Dutch|Dutch|Netherlandish',\n",
       "       'Sierra Leonean', 'Swiss|Austrian', 'Serbian', 'French|Flemish',\n",
       "       'Egyptian', 'Mexican', 'German|French|German', 'German|American',\n",
       "       'English|English', 'Swiss|Swiss', 'British|German', 'Dutch|Dutch',\n",
       "       'British|French|British|British', 'Colombian', 'Italian|Italian',\n",
       "       'Turkish', 'Canadian', 'Greek', 'Flemish|Flemish',\n",
       "       'American|Italian', 'Swiss', 'British|Dutch', 'American|French',\n",
       "       'French|Dutch', 'English|British', 'English|Dutch',\n",
       "       'French|Italian', 'Dutch|Italian', 'Congolese (Republic of Congo)',\n",
       "       'Dogon', 'Bohemian', 'French|French|French', 'Swedish',\n",
       "       'Norwegian', 'British|French|British', 'Tibetan', 'European',\n",
       "       'Polish', 'Syrian', 'Southern European|Maltese',\n",
       "       'English|Portuguese', 'American|Greek', 'American|British',\n",
       "       'Belgian|German', 'British|English', 'German|Italian',\n",
       "       'British|Scottish', 'British|', 'French|Swiss', 'American|Swiss',\n",
       "       'American|French|French',\n",
       "       'Vietnamese||Vietnamese|Vietnamese|Vietnamese|Vietnamese|||Vietnamese||||Vietnamese',\n",
       "       'British|British|British|British', 'American|European',\n",
       "       'Bohemian|Italian', 'American|German|American', 'Danish|Danish',\n",
       "       'Dutch|French', 'Chilean', 'English|Flemish',\n",
       "       'Italian|Italian|Italian|Italian', 'American|', 'Malian',\n",
       "       'Irish|British', 'Irish|German|Spanish', 'Beninese',\n",
       "       'Swiss|German', 'Ivorian', 'British|British|British',\n",
       "       'Flemish|German', 'Belgian|Belgian', 'German|German|German',\n",
       "       'Italian|undetermined', 'Irish', 'American|American|British',\n",
       "       'British|French|British|German', 'Cypriot', 'French|Japanese',\n",
       "       'South American', 'Italian|British', 'Jamaican|British',\n",
       "       'American|American|American', 'Netherlandish', 'Slovene',\n",
       "       'Dutch|Flemish', 'Japanese|Japanese|Japanese', 'Thai',\n",
       "       'Brazilian|Brazilian', 'Cuban', 'Iranian', 'British|Italian',\n",
       "       'French|New Zealander|French', 'Syro-Hittite', 'Hungarian',\n",
       "       'British|Flemish', 'Malagasy', 'Luxembourgeois', 'German|Swiss',\n",
       "       'Chola', 'British|Swiss', 'Nepalese', 'Greco-Bactrian',\n",
       "       'Greek|Near Eastern', 'French|British', 'Burkinabe',\n",
       "       'Northern European', 'Spanish|French', 'Irish|Flemish',\n",
       "       'Brazilian|Brazilian|Brazilian', 'Mesopotamian',\n",
       "       'Austrian|Italian', 'English|French', 'Scottish|Scottish',\n",
       "       'Flemish|French', 'American|English', 'Danish|American',\n",
       "       'German|undetermined', 'British|French',\n",
       "       'Japanese|Italian|Italian', 'Yoruba', 'American|American|Canadian',\n",
       "       'Achaemenid', 'Israeli|British', 'French|American',\n",
       "       'English|Irish', 'Japanese|Italian', 'Etruscan', 'Romano-Egyptian',\n",
       "       'French|English', 'Belgian|Swiss', 'Korean',\n",
       "       'French|English|Venetian', 'Finnish', 'Irish|English', 'Jordanian',\n",
       "       'Finnish|Finnish', 'New Zealander', 'Irish|French',\n",
       "       'French|Spanish', 'English|German', 'Japanese|Japanese|',\n",
       "       'British|Indian', 'American|Japanese', 'American|Belgian',\n",
       "       'Canadian|Canadian', 'Italian|Italian|Italian', 'Chinese|Japanese',\n",
       "       'American|Indian', 'Japanese|Japanese|Swiss', 'English|American',\n",
       "       'Puerto Rican', 'Taiwanese', 'Dutch|Netherlandish',\n",
       "       'Czechoslovakian', 'Netherlandish|Netherlandish', 'Danish|British',\n",
       "       'undetermined|British', 'Khmer', 'English|Italian',\n",
       "       'Norwegian|American', 'Ejagham', 'Pakistani', 'Cameroonian',\n",
       "       'Colombian|Colombian', 'German|French', 'Flemish|Dutch',\n",
       "       'Swiss|American|American', 'Vietnamese', 'Japanese|German',\n",
       "       'Yugoslavian', 'Israeli|Italian', 'Lithuanian', 'Georgian',\n",
       "       'Belgian|French', 'Ukrainian', 'Belgian|', 'Kuba (Congolese)',\n",
       "       'American|Indian|', 'British|American', 'Portuguese',\n",
       "       'Chinese|French', 'Sudanese', 'Austrian|Czech', 'American|Russian',\n",
       "       'French|British|British|British', 'Irish|Dutch',\n",
       "       'Swiss|Swiss|French|French', 'Mexican|', 'Scottish|British',\n",
       "       'English|Dutch|German', 'Guinean', 'Coptic Egyptian',\n",
       "       'American|Dutch', 'Baulé', 'Irish|German', 'Swabian',\n",
       "       'Dutch|Dutch|Italian', 'German|', 'British|Japanese',\n",
       "       'German|Chinese', 'Cycladic', 'Swedish|Swedish|Swedish',\n",
       "       'Central African', 'Dutch|German', 'Argentine|Spanish', 'Romanian',\n",
       "       'American|Italian|Italian', 'Estonian', 'Croatian', 'Sumerian',\n",
       "       'Australian|British', 'Austrian|German', 'Netherlandish|Flemish',\n",
       "       'Montenegrin', 'Sassanian|Parthian', 'Dutch|English',\n",
       "       'Cambodian|Thai', 'Israeli|Swiss', 'English|English|British',\n",
       "       'Icelandic', 'Turkish, Asia Minor', 'American|undetermined',\n",
       "       'Greenlandic', 'Belgian|Flemish',\n",
       "       'American|American|American|American', 'Venezuelan',\n",
       "       'German|British|French|German', 'Algerian',\n",
       "       'Austrian|Austrian|Austrian', 'American|American|',\n",
       "       'Nigerian|Liberian', 'Dutch|English|Spanish'], dtype=object)"
      ]
     },
     "execution_count": 5,
     "metadata": {},
     "output_type": "execute_result"
    }
   ],
   "source": [
    "cmoa[\"nationality\"].unique()"
   ]
  }
 ],
 "metadata": {
  "kernelspec": {
   "display_name": "Python 3",
   "language": "python",
   "name": "python3"
  },
  "language_info": {
   "codemirror_mode": {
    "name": "ipython",
    "version": 3
   },
   "file_extension": ".py",
   "mimetype": "text/x-python",
   "name": "python",
   "nbconvert_exporter": "python",
   "pygments_lexer": "ipython3",
   "version": "3.8.5"
  },
  "orig_nbformat": 4
 },
 "nbformat": 4,
 "nbformat_minor": 2
}
